{
 "cells": [
  {
   "cell_type": "markdown",
   "id": "57e1546a",
   "metadata": {
    "tags": []
   },
   "source": [
    "# 1.) Import Dependencies"
   ]
  },
  {
   "cell_type": "code",
   "execution_count": 45,
   "id": "65f96603",
   "metadata": {},
   "outputs": [],
   "source": [
    "#screen cap\n",
    "from mss import mss\n",
    "#commands\n",
    "import pydirectinput\n",
    "#frame processing\n",
    "import cv2\n",
    "#transformational framework\n",
    "import numpy as np\n",
    "#OCR for game over detection\n",
    "#import pytesseract\n",
    "#from pytesseract import image_to_string\n",
    "import pyautogui\n",
    "#visualize captured frames\n",
    "from matplotlib import pyplot as plt\n",
    "#pauses\n",
    "import time \n",
    "#enviroment \n",
    "from gym import Env\n",
    "from gym.spaces import Box, Discrete\n",
    "#random names for models\n",
    "from faker import Faker\n",
    "from faker_biology.bioseq import Bioseq"
   ]
  },
  {
   "cell_type": "markdown",
   "id": "0a0b406f",
   "metadata": {
    "tags": []
   },
   "source": [
    "# 2.) Enviroment Setup"
   ]
  },
  {
   "cell_type": "code",
   "execution_count": 52,
   "id": "d8ef69f5",
   "metadata": {},
   "outputs": [],
   "source": [
    "class dinogame(Env):\n",
    "    #set tesseract path \n",
    "    #ytesseract.pytesseract.tesseract_cmd = r'C:\\Program Files\\Tesseract-OCR\\tesseract.exe'\n",
    "    \n",
    "    #setup enviroment action and observation shapes\n",
    "    def __init__(self):\n",
    "        #subclass model\n",
    "        super().__init__()\n",
    "        #setup spaces \n",
    "        self.observation_space = Box(low = 0, high = 255, shape=(1, 83, 100), dtype = np.uint8)\n",
    "        self.action_space = Discrete(3)\n",
    "        #define extraction parameters for the game\n",
    "        self.cap = mss()\n",
    "        self.game_location = {'top': 300, 'left': 0, 'width': 600, 'height': 500,}\n",
    "        self.done_location = {'top': 375, 'left': 630, 'width': 660, 'height': 80,}\n",
    "    \n",
    "        pass\n",
    "    #called to do action in game\n",
    "    def step(self, action):\n",
    "        #Action key:\n",
    "            #0 = space \n",
    "            #1 = duck \n",
    "            #2 = no action\n",
    "            \n",
    "        action_map= {\n",
    "            0: 'space',\n",
    "            1: 'down',\n",
    "            2: 'no_op',\n",
    "        }\n",
    "        if action != 2:\n",
    "            pydirectinput.press(action_map[action])\n",
    "            \n",
    "        #check if game is done\n",
    "        done, done_cap = self.get_done()\n",
    "        #check new observation\n",
    "        new_observation = self.get_observation()\n",
    "        #reward - awarded point for every frame alive\n",
    "        reward = 1\n",
    "        #info dictionary\n",
    "        info = {}\n",
    "        \n",
    "        return new_observation, reward, done, info \n",
    "    \n",
    "    #visualize game\n",
    "    def render(self):\n",
    "        cv2.imshow('Game', np.array(self.cap.grab(self.game_location))[:, :, :3])\n",
    "        if cv2.waitKey(1) & 0xFF == ord('q'):\n",
    "            self.close()\n",
    "    \n",
    "    #restart game\n",
    "    def reset(self):\n",
    "        time.sleep(1)\n",
    "        pydirectinput.click(x = 150, y = 150)\n",
    "        pydirectinput.press('space')\n",
    "        return self.get_observation()\n",
    "    \n",
    "    #stops observation\n",
    "    def close(self):\n",
    "        cv2.destroyAllWindows()\n",
    "    \n",
    "    #get part of game that we want\n",
    "    def get_observation(self):\n",
    "        #get screen cap of game \n",
    "        raw = np.array(self.cap.grab(self.game_location))[:, :, :3]\n",
    "        #grayscale\n",
    "        gray = cv2.cvtColor(raw, cv2.COLOR_BGR2GRAY)\n",
    "        #resize\n",
    "        resized = cv2.resize(gray, (100, 83))\n",
    "        #add channels \n",
    "        channel = np.reshape(resized, (1, 83, 100))\n",
    "        return channel\n",
    "    \n",
    "    #tell if game is over    \n",
    "    def get_done(self):\n",
    "        #get game over \n",
    "        done_cap = np.array(self.cap.grab(self.done_location))[:, :, :3]\n",
    "        #valid done text \n",
    "        #done_strings = ['GAME', 'GAHE', 'Wir ', 'WHT ', 'YWHi', 'Wor ', '41 F']\n",
    "\n",
    "        #apply OCR\n",
    "        done = True \n",
    "        #res = pytesseract.image_to_string(done_cap)[:4]\n",
    "        if pyautogui.locateCenterOnScreen('dino.png') is None:\n",
    "            done = False\n",
    "              \n",
    "        return done, done_cap, "
   ]
  },
  {
   "cell_type": "markdown",
   "id": "70a73f80-6d54-42f3-bc74-638bd86e1d5c",
   "metadata": {
    "tags": []
   },
   "source": [
    "# 3.)Test Enviroment "
   ]
  },
  {
   "cell_type": "code",
   "execution_count": 53,
   "id": "cfdeeb9a",
   "metadata": {},
   "outputs": [],
   "source": [
    "env = dinogame()"
   ]
  },
  {
   "cell_type": "code",
   "execution_count": 54,
   "id": "348a7482-1388-4fe5-8beb-f3d1cbeb644c",
   "metadata": {},
   "outputs": [],
   "source": [
    "obs = env.get_observation()"
   ]
  },
  {
   "cell_type": "code",
   "execution_count": 55,
   "id": "a7fcf9b0-ea4a-4d0e-be07-9872bbd32584",
   "metadata": {},
   "outputs": [
    {
     "data": {
      "text/plain": [
       "<matplotlib.image.AxesImage at 0x1cc89172e50>"
      ]
     },
     "execution_count": 55,
     "metadata": {},
     "output_type": "execute_result"
    },
    {
     "data": {
      "image/png": "[encoded data removed]",
      "text/plain": [
       "<Figure size 432x288 with 1 Axes>"
      ]
     },
     "metadata": {
      "needs_background": "light"
     },
     "output_type": "display_data"
    }
   ],
   "source": [
    "plt.imshow(cv2.cvtColor(obs[0], cv2.COLOR_BGR2RGB))"
   ]
  },
  {
   "cell_type": "code",
   "execution_count": 56,
   "id": "5aa15f66",
   "metadata": {
    "tags": []
   },
   "outputs": [
    {
     "name": "stdout",
     "output_type": "stream",
     "text": [
      "False\n"
     ]
    }
   ],
   "source": [
    "done, done_cap = env.get_done()\n",
    "print(done)"
   ]
  },
  {
   "cell_type": "code",
   "execution_count": 57,
   "id": "f495eb9d",
   "metadata": {
    "tags": []
   },
   "outputs": [
    {
     "data": {
      "text/plain": [
       "<matplotlib.image.AxesImage at 0x1cc891ccee0>"
      ]
     },
     "execution_count": 57,
     "metadata": {},
     "output_type": "execute_result"
    },
    {
     "data": {
      "image/png": "[encoded data removed]",
      "text/plain": [
       "<Figure size 432x288 with 1 Axes>"
      ]
     },
     "metadata": {
      "needs_background": "light"
     },
     "output_type": "display_data"
    }
   ],
   "source": [
    "plt.imshow(done_cap)"
   ]
  },
  {
   "cell_type": "markdown",
   "id": "ad84ceac-c745-4a33-a5ef-61c7914bb0e8",
   "metadata": {
    "tags": [],
    "toc-hr-collapsed": true
   },
   "source": [
    "# 4.) Setup Directories and Check Enviroment"
   ]
  },
  {
   "cell_type": "code",
   "execution_count": 11,
   "id": "b26cd871-a800-4e01-8b85-ace56f7d66b2",
   "metadata": {},
   "outputs": [],
   "source": [
    "#file path management\n",
    "import os \n",
    "#check enviroment\n",
    "from stable_baselines3.common import env_checker "
   ]
  },
  {
   "cell_type": "code",
   "execution_count": 13,
   "id": "a2262c1c-d3e5-4c18-bf4e-d03429633855",
   "metadata": {},
   "outputs": [],
   "source": [
    "#prevent errors\n",
    "pydirectinput.FAILSAFE = False"
   ]
  },
  {
   "cell_type": "code",
   "execution_count": 14,
   "id": "8f31be68-ca1e-41e2-9efe-30b0a3c32336",
   "metadata": {},
   "outputs": [],
   "source": [
    "#check enviroment is ok\n",
    "env_checker.check_env(env)"
   ]
  },
  {
   "cell_type": "code",
   "execution_count": 15,
   "id": "5127382b-843a-43e2-b6b9-dfcef7c439b4",
   "metadata": {},
   "outputs": [],
   "source": [
    "CHECKPOINT_DIR = './train/'\n",
    "LOG_DIR = './logs/'"
   ]
  },
  {
   "cell_type": "markdown",
   "id": "4c785fbc-831d-4722-a969-98e5d90e6125",
   "metadata": {
    "jp-MarkdownHeadingCollapsed": true,
    "tags": [],
    "toc-hr-collapsed": true
   },
   "source": [
    "# 5.) Build New Model and Train"
   ]
  },
  {
   "cell_type": "markdown",
   "id": "7bb11b43-dc6e-46e8-a994-97500866a829",
   "metadata": {
    "tags": []
   },
   "source": [
    "# 5.1) Train on DQN Algo"
   ]
  },
  {
   "cell_type": "code",
   "execution_count": 30,
   "id": "9ed509b6-b68b-475c-a94c-2cefb2c7bff2",
   "metadata": {},
   "outputs": [],
   "source": [
    "# import DQN algo\n",
    "from stable_baselines3 import DQN\n",
    "#saving models\n",
    "from stable_baselines3.common.callbacks import BaseCallback"
   ]
  },
  {
   "cell_type": "code",
   "execution_count": 31,
   "id": "3c840176-ceb5-44a7-90e3-4f2bba77edc9",
   "metadata": {},
   "outputs": [],
   "source": [
    "class TrainAndLoggingCallback(BaseCallback):\n",
    "\n",
    "    def __init__(self, check_freq, save_path, verbose=1):\n",
    "        super(TrainAndLoggingCallback, self).__init__(verbose)\n",
    "        self.check_freq = check_freq\n",
    "        self.save_path = save_path\n",
    "\n",
    "    def _init_callback(self):\n",
    "        if self.save_path is not None:\n",
    "            os.makedirs(self.save_path, exist_ok=True)\n",
    "\n",
    "    def _on_step(self):\n",
    "        if self.n_calls % self.check_freq == 0:\n",
    "            model_path = os.path.join(self.save_path, 'best_model_{}'.format(self.n_calls))\n",
    "            self.model.save(model_path)\n",
    "\n",
    "        return True"
   ]
  },
  {
   "cell_type": "code",
   "execution_count": 32,
   "id": "3a10542f-82d2-4a96-9bfe-b441e4086448",
   "metadata": {},
   "outputs": [],
   "source": [
    "callback = TrainAndLoggingCallback(check_freq = 1000, save_path = CHECKPOINT_DIR + 'DQN')"
   ]
  },
  {
   "cell_type": "code",
   "execution_count": null,
   "id": "5cf51c32-bd64-418a-b7f7-fdc8ebc01241",
   "metadata": {
    "tags": []
   },
   "outputs": [],
   "source": [
    "#create DQN model\n",
    "model = DQN('CnnPolicy', env, learning_rate=0.0001, tensorboard_log=LOG_DIR, verbose=1, buffer_size=50000, learning_starts=1000 )"
   ]
  },
  {
   "cell_type": "code",
   "execution_count": null,
   "id": "7e44daec-1311-4800-923e-ae4f0619dc1a",
   "metadata": {
    "tags": []
   },
   "outputs": [],
   "source": [
    "#start training \n",
    "model.learn(total_timesteps=88000, callback=callback)"
   ]
  },
  {
   "cell_type": "markdown",
   "id": "c3e98f2d-4496-45e6-9ab9-e0c91be175b6",
   "metadata": {
    "jp-MarkdownHeadingCollapsed": true,
    "tags": []
   },
   "source": [
    "# 5.2) Train PPO Algo (kinda sucks)"
   ]
  },
  {
   "cell_type": "code",
   "execution_count": null,
   "id": "24c45807-af25-4d31-be98-6caac83eb5ad",
   "metadata": {},
   "outputs": [],
   "source": [
    "#import PPO algo\n",
    "from stable_baselines3 import PPO\n",
    "from stable_baselines3.common.callbacks import EvalCallback, StopTrainingOnRewardThreshold"
   ]
  },
  {
   "cell_type": "code",
   "execution_count": null,
   "id": "17b23b29-afe5-4a3f-b9f9-4fc76facd56a",
   "metadata": {},
   "outputs": [],
   "source": [
    "save_path = os.path.join('models/PPO')"
   ]
  },
  {
   "cell_type": "code",
   "execution_count": null,
   "id": "f42968e7-4199-4825-8a27-359d7ae4af77",
   "metadata": {},
   "outputs": [],
   "source": [
    "class TrainAndLoggingCallback(BaseCallback):\n",
    "\n",
    "    def __init__(self, check_freq, save_path, verbose=1):\n",
    "        super(TrainAndLoggingCallback, self).__init__(verbose)\n",
    "        self.check_freq = check_freq\n",
    "        self.save_path = save_path\n",
    "\n",
    "    def _init_callback(self):\n",
    "        if self.save_path is not None:\n",
    "            os.makedirs(self.save_path, exist_ok=True)\n",
    "\n",
    "    def _on_step(self):\n",
    "        if self.n_calls % self.check_freq == 0:\n",
    "            model_path = os.path.join(self.save_path, 'best_model_{}'.format(self.n_calls))\n",
    "            self.model.save(model_path)\n",
    "\n",
    "        return True"
   ]
  },
  {
   "cell_type": "code",
   "execution_count": null,
   "id": "4e2e00be-e2e1-4fc7-b304-20573b1c0821",
   "metadata": {},
   "outputs": [],
   "source": [
    "callback = TrainAndLoggingCallback(check_freq = 10000, save_path = CHECKPOINT_DIR + 'PPO')"
   ]
  },
  {
   "cell_type": "code",
   "execution_count": null,
   "id": "dcc734ce-60f2-4f9e-9c82-f8b72caf3eb7",
   "metadata": {},
   "outputs": [],
   "source": [
    "model = PPO('MlpPolicy', env, verbose=1, tensorboard_log=LOG_DIR)"
   ]
  },
  {
   "cell_type": "code",
   "execution_count": null,
   "id": "bcba9dbc-d579-498a-a5d7-cde8720ddf49",
   "metadata": {
    "tags": []
   },
   "outputs": [],
   "source": [
    "model.learn(total_timesteps=100000, callback=callback)"
   ]
  },
  {
   "cell_type": "markdown",
   "id": "34aa45d3-e81c-4d55-bfbe-d4faffb3159c",
   "metadata": {
    "tags": []
   },
   "source": [
    "# 6.) Load and Re-Train model"
   ]
  },
  {
   "cell_type": "code",
   "execution_count": 77,
   "id": "951d27f8-77b0-457b-a3e3-0affbb6d3d16",
   "metadata": {},
   "outputs": [],
   "source": [
    "#setup naming convention\n",
    "fake = Faker()\n",
    "fake.add_provider(Bioseq)"
   ]
  },
  {
   "cell_type": "code",
   "execution_count": 78,
   "id": "99cc5781-e5e9-4d2c-a8d5-49a471ba94ad",
   "metadata": {},
   "outputs": [],
   "source": [
    "#change hyperparameters\n",
    "custom_objects = {'learning_rate': 0.0001}"
   ]
  },
  {
   "cell_type": "code",
   "execution_count": 79,
   "id": "021be8fb-b1be-4c08-a2f7-68981a5745c3",
   "metadata": {},
   "outputs": [],
   "source": [
    "#load model (without \".zip\" extension)\n",
    "model = DQN.load(os.path.join('models/DQN/model_PSG3.zip'), custom_objects = custom_objects)"
   ]
  },
  {
   "cell_type": "code",
   "execution_count": 80,
   "id": "662e10b3-20e4-45f7-a4a8-b18b75f71a81",
   "metadata": {},
   "outputs": [
    {
     "name": "stdout",
     "output_type": "stream",
     "text": [
      "Wrapping the env with a `Monitor` wrapper\n",
      "Wrapping the env in a DummyVecEnv.\n"
     ]
    }
   ],
   "source": [
    "#set model enviroment \n",
    "model.set_env(env)"
   ]
  },
  {
   "cell_type": "code",
   "execution_count": 43,
   "id": "024fd12f-ef80-4c62-898c-ab3d078e281b",
   "metadata": {
    "collapsed": true,
    "jupyter": {
     "outputs_hidden": true
    },
    "tags": []
   },
   "outputs": [
    {
     "ename": "TypeError",
     "evalue": "learn() got an unexpected keyword argument 'total_episodes'",
     "output_type": "error",
     "traceback": [
      "\u001b[1;31m---------------------------------------------------------------------------\u001b[0m",
      "\u001b[1;31mTypeError\u001b[0m                                 Traceback (most recent call last)",
      "\u001b[1;32m~\\AppData\\Local\\Temp/ipykernel_12412/3750921437.py\u001b[0m in \u001b[0;36m<module>\u001b[1;34m\u001b[0m\n\u001b[0;32m      1\u001b[0m \u001b[1;31m#start training\u001b[0m\u001b[1;33m\u001b[0m\u001b[1;33m\u001b[0m\u001b[0m\n\u001b[1;32m----> 2\u001b[1;33m \u001b[0mmodel\u001b[0m\u001b[1;33m.\u001b[0m\u001b[0mlearn\u001b[0m\u001b[1;33m(\u001b[0m\u001b[0mtotal_episodes\u001b[0m\u001b[1;33m=\u001b[0m\u001b[1;36m10000\u001b[0m\u001b[1;33m,\u001b[0m \u001b[0mcallback\u001b[0m\u001b[1;33m=\u001b[0m\u001b[0mcallback\u001b[0m\u001b[1;33m,\u001b[0m \u001b[0mreset_num_timesteps\u001b[0m\u001b[1;33m=\u001b[0m\u001b[1;32mFalse\u001b[0m\u001b[1;33m)\u001b[0m\u001b[1;33m\u001b[0m\u001b[1;33m\u001b[0m\u001b[0m\n\u001b[0m",
      "\u001b[1;31mTypeError\u001b[0m: learn() got an unexpected keyword argument 'total_episodes'"
     ]
    }
   ],
   "source": [
    "#start training \n",
    "model.learn(total_timesteps=10000, callback=callback, reset_num_timesteps=False)"
   ]
  },
  {
   "cell_type": "code",
   "execution_count": 70,
   "id": "e2b54ed4-77c5-40a5-83e1-a640ccd1be8e",
   "metadata": {},
   "outputs": [],
   "source": [
    "model.save('models/DQN/model_' +  fake.protein_name()[:4])"
   ]
  },
  {
   "cell_type": "markdown",
   "id": "07e9c8ac-23dc-45ae-b3d3-ee13c74b3baf",
   "metadata": {
    "tags": []
   },
   "source": [
    "# 7.) Load/Test Model\n"
   ]
  },
  {
   "cell_type": "code",
   "execution_count": 20,
   "id": "aa6fb643-ba09-4bfe-89fc-e761af83fed9",
   "metadata": {},
   "outputs": [],
   "source": [
    "#import required libraries\n",
    "from stable_baselines3 import DQN\n",
    "import os "
   ]
  },
  {
   "cell_type": "code",
   "execution_count": 21,
   "id": "0d2fe8b0-e067-4f91-bf8d-9a6dd94ce285",
   "metadata": {
    "tags": []
   },
   "outputs": [],
   "source": [
    "model = DQN.load(os.path.join('models/DQN/model_PSG3.zip'))"
   ]
  },
  {
   "cell_type": "code",
   "execution_count": 22,
   "id": "54742a05-6e58-4fa4-aea3-b5d5314cead6",
   "metadata": {
    "tags": []
   },
   "outputs": [
    {
     "name": "stdout",
     "output_type": "stream",
     "text": [
      "Total Reward for episode 0 is 28\n"
     ]
    }
   ],
   "source": [
    "#play 10 games\n",
    "for episode in range(1):\n",
    "    obs = env.reset()\n",
    "    done = False \n",
    "    total_reward = 0\n",
    "    \n",
    "    while not done:\n",
    "        action, _ = model.predict(obs)\n",
    "        obs, reward, done, info = env.step(int(action))\n",
    "        time.sleep(0.01)\n",
    "        total_reward += reward\n",
    "    print(f'Total Reward for episode {episode} is {total_reward}')\n",
    "    time.sleep(2)"
   ]
  },
  {
   "cell_type": "code",
   "execution_count": null,
   "id": "67fc98d0-cb3c-4b08-a8b3-e7a2decfd7e3",
   "metadata": {},
   "outputs": [],
   "source": []
  }
 ],
 "metadata": {
  "kernelspec": {
   "display_name": "Python 3 (ipykernel)",
   "language": "python",
   "name": "python3"
  },
  "language_info": {
   "codemirror_mode": {
    "name": "ipython",
    "version": 3
   },
   "file_extension": ".py",
   "mimetype": "text/x-python",
   "name": "python",
   "nbconvert_exporter": "python",
   "pygments_lexer": "ipython3",
   "version": "3.9.7"
  },
  "toc-autonumbering": false,
  "toc-showcode": false,
  "toc-showmarkdowntxt": true
 },
 "nbformat": 4,
 "nbformat_minor": 5
}
